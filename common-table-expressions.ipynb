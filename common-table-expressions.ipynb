{
 "cells": [
  {
   "cell_type": "markdown",
   "metadata": {},
   "source": [
    "![Digital Futures](https://github.com/digital-futures-academy/DataScienceMasterResources/blob/main/Resources/datascience-notebook-header.png?raw=true)"
   ]
  },
  {
   "cell_type": "markdown",
   "metadata": {},
   "source": [
    "## Learner Stories\n",
    "\n",
    "```text\n",
    "As a DATA PROFESSIONAL,  \n",
    "I want to be able to write subqueries and use Common Table Expressions (CTEs),  \n",
    "so that I can break down complex queries into simpler, reusable components\n",
    "```"
   ]
  },
  {
   "cell_type": "markdown",
   "metadata": {},
   "source": [
    "# What are Common Table Expressions (CTEs)?\n",
    "\n",
    "Common Table Expressions (CTEs) are temporary result sets that you can reference within a SELECT, INSERT, UPDATE, or DELETE statement. They are defined using the WITH keyword and are useful for creating complex queries that are easier to read and maintain.  They are a little bit like context managers in Python, but for SQL!"
   ]
  },
  {
   "cell_type": "markdown",
   "metadata": {},
   "source": [
    "### Example of a CTE\n",
    "\n",
    "```sql\n",
    "WITH cte AS (\n",
    "    SELECT column1, column2\n",
    "    FROM table1\n",
    "    WHERE column3 = 'value'\n",
    ")\n",
    "SELECT *\n",
    "FROM cte;\n",
    "```"
   ]
  },
  {
   "cell_type": "markdown",
   "metadata": {},
   "source": [
    "---"
   ]
  },
  {
   "cell_type": "markdown",
   "metadata": {},
   "source": [
    "## Why Use CTEs?\n",
    "\n",
    "CTEs are useful for a number of reasons:\n",
    "\n",
    "1. **Readability**: CTEs can make complex queries easier to read and understand by breaking them down into smaller, more manageable parts.\n",
    "2. **Reusability**: CTEs can be referenced multiple times within a query, allowing you to reuse the same logic in different parts of the query.\n",
    "3. **Performance**: CTEs can improve query performance by allowing the database engine to optimize the execution plan.\n",
    "4. **Debugging**: CTEs can be used to isolate and test specific parts of a query, making it easier to identify and fix issues.\n",
    "5. **Recursive Queries**: CTEs can be used to create recursive queries that reference themselves, allowing you to work with hierarchical data structures.\n",
    "6. **Window Functions**: CTEs can be used in conjunction with window functions to perform complex analytical queries. (Window functions are a powerful feature of SQL that allow you to perform calculations across a set of rows related to the current row.)\n",
    "7. **Data Transformation**: CTEs can be used to transform data in a query, such as aggregating, filtering, or joining data from multiple tables."
   ]
  },
  {
   "cell_type": "markdown",
   "metadata": {},
   "source": [
    "---"
   ]
  },
  {
   "cell_type": "markdown",
   "metadata": {},
   "source": [
    "## Use Cases for CTEs\n",
    "\n",
    "Here are some common use cases for CTEs:\n",
    "\n",
    "1. **Recursive Queries**: CTEs can be used to create recursive queries that reference themselves, allowing you to work with hierarchical data structures such as organizational charts, bill of materials, or social networks.\n",
    "2. **Reusable Queries**: CTEs can be used to define reusable subqueries that can be referenced multiple times within a query, reducing duplication and improving maintainability.\n",
    "3. **Data Transformation**: CTEs can be used to transform data in a query, such as aggregating, filtering, or joining data from multiple tables.\n",
    "\n",
    "Here is an example of a ***recursive*** CTE that generates a list of all employees and their managers in an organizational chart:\n",
    "\n",
    "```sql\n",
    "WITH RECURSIVE employee_hierarchy AS (\n",
    "    SELECT employee_id, manager_id\n",
    "    FROM employees\n",
    "    WHERE manager_id IS NULL\n",
    "    UNION ALL\n",
    "    SELECT e.employee_id, e.manager_id\n",
    "    FROM employees e\n",
    "    JOIN employee_hierarchy eh ON e.manager_id = eh.employee_id\n",
    ")\n",
    "SELECT *\n",
    "FROM employee_hierarchy;\n",
    "```\n",
    "\n",
    "This query does the following:\n",
    "\n",
    "- The initial query selects the root node of the hierarchy (employees with no manager).\n",
    "- The recursive part of the query joins the employees table with the CTE to find the direct reports of each manager.\n",
    "- The UNION ALL operator combines the results of the initial query and the recursive part to generate the final result set.\n",
    "- The SELECT statement at the end retrieves the final result set.\n",
    "- The query will continue to execute recursively until all levels of the hierarchy have been processed."
   ]
  },
  {
   "cell_type": "markdown",
   "metadata": {},
   "source": [
    "---"
   ]
  },
  {
   "cell_type": "markdown",
   "metadata": {},
   "source": [
    "## Demo Database Set Up\n",
    "\n",
    "To see some examples in action, we'll create an in-memory SQLite database and populate it with some sample data. We'll then run a recursive query to generate an organizational chart."
   ]
  },
  {
   "cell_type": "markdown",
   "metadata": {},
   "source": [
    "#### Create and Populate the Database"
   ]
  },
  {
   "cell_type": "code",
   "execution_count": 1,
   "metadata": {},
   "outputs": [
    {
     "data": {
      "text/plain": [
       "<sqlite3.Cursor at 0x103d53840>"
      ]
     },
     "execution_count": 1,
     "metadata": {},
     "output_type": "execute_result"
    }
   ],
   "source": [
    "import sqlite3\n",
    "\n",
    "# Create an in-memory SQLite database\n",
    "conn = sqlite3.connect(':memory:')\n",
    "cursor = conn.cursor()\n",
    "\n",
    "# Create the employees table\n",
    "cursor.execute('''\n",
    "CREATE TABLE employees (\n",
    "    employee_id INTEGER PRIMARY KEY,\n",
    "    name TEXT,\n",
    "    manager_id INTEGER\n",
    ")\n",
    "''')\n",
    "\n",
    "# Populate the employees table with sample data\n",
    "employees = [\n",
    "    (1, 'Alice', None),  # Top-level employee with no manager\n",
    "    (2, 'Bob', 1),       # Employee under Manager Alice\n",
    "    (3, 'Charlie', 1),   # Another Employee under Manager Alice\n",
    "    (4, 'David', 2),     # Employee under Manager Bob\n",
    "    (5, 'Eve', 2),       # Another Employee under Manager Bob\n",
    "    (6, 'Frank', 3),     # Employee under Manager Charlie\n",
    "    (7, 'Grace', 4),     # Employee under Employee David\n",
    "]\n",
    "\n",
    "cursor.executemany('INSERT INTO employees (employee_id, name, manager_id) VALUES (?, ?, ?)', employees)"
   ]
  },
  {
   "cell_type": "markdown",
   "metadata": {},
   "source": [
    "---"
   ]
  },
  {
   "cell_type": "markdown",
   "metadata": {},
   "source": [
    "## 1. Recursive Query Demo"
   ]
  },
  {
   "cell_type": "markdown",
   "metadata": {},
   "source": [
    "#### Define the Query as a String variable in Python"
   ]
  },
  {
   "cell_type": "code",
   "execution_count": 2,
   "metadata": {},
   "outputs": [],
   "source": [
    "recursive_query = \"\"\"\n",
    "WITH RECURSIVE employee_hierarchy AS (\n",
    "    SELECT employee_id, manager_id\n",
    "    FROM employees\n",
    "    WHERE manager_id IS NULL\n",
    "    UNION ALL\n",
    "    SELECT e.employee_id, e.manager_id\n",
    "    FROM employees e\n",
    "    JOIN employee_hierarchy eh ON e.manager_id = eh.employee_id\n",
    ")\n",
    "SELECT *\n",
    "FROM employee_hierarchy;\n",
    "\"\"\""
   ]
  },
  {
   "cell_type": "markdown",
   "metadata": {},
   "source": [
    "#### Run the Query and put the result into a Pandas DataFrame"
   ]
  },
  {
   "cell_type": "code",
   "execution_count": 3,
   "metadata": {},
   "outputs": [],
   "source": [
    "# Import the pandas library\n",
    "import pandas as pd"
   ]
  },
  {
   "cell_type": "code",
   "execution_count": 4,
   "metadata": {},
   "outputs": [
    {
     "data": {
      "text/html": [
       "<div>\n",
       "<style scoped>\n",
       "    .dataframe tbody tr th:only-of-type {\n",
       "        vertical-align: middle;\n",
       "    }\n",
       "\n",
       "    .dataframe tbody tr th {\n",
       "        vertical-align: top;\n",
       "    }\n",
       "\n",
       "    .dataframe thead th {\n",
       "        text-align: right;\n",
       "    }\n",
       "</style>\n",
       "<table border=\"1\" class=\"dataframe\">\n",
       "  <thead>\n",
       "    <tr style=\"text-align: right;\">\n",
       "      <th></th>\n",
       "      <th>employee_id</th>\n",
       "      <th>manager_id</th>\n",
       "    </tr>\n",
       "  </thead>\n",
       "  <tbody>\n",
       "    <tr>\n",
       "      <th>0</th>\n",
       "      <td>1</td>\n",
       "      <td>NaN</td>\n",
       "    </tr>\n",
       "    <tr>\n",
       "      <th>1</th>\n",
       "      <td>2</td>\n",
       "      <td>1.0</td>\n",
       "    </tr>\n",
       "    <tr>\n",
       "      <th>2</th>\n",
       "      <td>3</td>\n",
       "      <td>1.0</td>\n",
       "    </tr>\n",
       "    <tr>\n",
       "      <th>3</th>\n",
       "      <td>4</td>\n",
       "      <td>2.0</td>\n",
       "    </tr>\n",
       "    <tr>\n",
       "      <th>4</th>\n",
       "      <td>5</td>\n",
       "      <td>2.0</td>\n",
       "    </tr>\n",
       "    <tr>\n",
       "      <th>5</th>\n",
       "      <td>6</td>\n",
       "      <td>3.0</td>\n",
       "    </tr>\n",
       "    <tr>\n",
       "      <th>6</th>\n",
       "      <td>7</td>\n",
       "      <td>4.0</td>\n",
       "    </tr>\n",
       "  </tbody>\n",
       "</table>\n",
       "</div>"
      ],
      "text/plain": [
       "   employee_id  manager_id\n",
       "0            1         NaN\n",
       "1            2         1.0\n",
       "2            3         1.0\n",
       "3            4         2.0\n",
       "4            5         2.0\n",
       "5            6         3.0\n",
       "6            7         4.0"
      ]
     },
     "execution_count": 4,
     "metadata": {},
     "output_type": "execute_result"
    }
   ],
   "source": [
    "# Run the query using the read_sql function\n",
    "df = pd.read_sql(recursive_query, conn)\n",
    "\n",
    "# Print the DataFrame\n",
    "df"
   ]
  },
  {
   "cell_type": "markdown",
   "metadata": {},
   "source": [
    "#### Why is the `manager_id` column a float?\n",
    "\n",
    "The issue likely arises from the way the Pandas handling the data types.  By default, pandas may interpret columns with missing values or mixed types as floats. You can explicitly set the data type of the manager_id column to int when creating the DataFrame."
   ]
  },
  {
   "cell_type": "code",
   "execution_count": 5,
   "metadata": {},
   "outputs": [
    {
     "data": {
      "text/html": [
       "<div>\n",
       "<style scoped>\n",
       "    .dataframe tbody tr th:only-of-type {\n",
       "        vertical-align: middle;\n",
       "    }\n",
       "\n",
       "    .dataframe tbody tr th {\n",
       "        vertical-align: top;\n",
       "    }\n",
       "\n",
       "    .dataframe thead th {\n",
       "        text-align: right;\n",
       "    }\n",
       "</style>\n",
       "<table border=\"1\" class=\"dataframe\">\n",
       "  <thead>\n",
       "    <tr style=\"text-align: right;\">\n",
       "      <th></th>\n",
       "      <th>employee_id</th>\n",
       "      <th>manager_id</th>\n",
       "    </tr>\n",
       "  </thead>\n",
       "  <tbody>\n",
       "    <tr>\n",
       "      <th>0</th>\n",
       "      <td>1</td>\n",
       "      <td>&lt;NA&gt;</td>\n",
       "    </tr>\n",
       "    <tr>\n",
       "      <th>1</th>\n",
       "      <td>2</td>\n",
       "      <td>1</td>\n",
       "    </tr>\n",
       "    <tr>\n",
       "      <th>2</th>\n",
       "      <td>3</td>\n",
       "      <td>1</td>\n",
       "    </tr>\n",
       "    <tr>\n",
       "      <th>3</th>\n",
       "      <td>4</td>\n",
       "      <td>2</td>\n",
       "    </tr>\n",
       "    <tr>\n",
       "      <th>4</th>\n",
       "      <td>5</td>\n",
       "      <td>2</td>\n",
       "    </tr>\n",
       "    <tr>\n",
       "      <th>5</th>\n",
       "      <td>6</td>\n",
       "      <td>3</td>\n",
       "    </tr>\n",
       "    <tr>\n",
       "      <th>6</th>\n",
       "      <td>7</td>\n",
       "      <td>4</td>\n",
       "    </tr>\n",
       "  </tbody>\n",
       "</table>\n",
       "</div>"
      ],
      "text/plain": [
       "   employee_id  manager_id\n",
       "0            1        <NA>\n",
       "1            2           1\n",
       "2            3           1\n",
       "3            4           2\n",
       "4            5           2\n",
       "5            6           3\n",
       "6            7           4"
      ]
     },
     "execution_count": 5,
     "metadata": {},
     "output_type": "execute_result"
    }
   ],
   "source": [
    "# Re-run the query using the read_sql function\n",
    "df = pd.read_sql(recursive_query, conn)\n",
    "\n",
    "# Explicitly set the data type of the manager_id column to integer\n",
    "df['manager_id'] = df['manager_id'].astype('Int64')  # Use 'Int64' for nullable integers\n",
    "\n",
    "# Print the DataFrame\n",
    "df"
   ]
  },
  {
   "cell_type": "markdown",
   "metadata": {},
   "source": [
    "#### Why does `employee-id=1` have `<NA>` for the `manager_id`?\n",
    "\n",
    "The employee with `employee_id=1` has no manager, so the `manager_id` is NULL in the database. When the data is loaded into a Pandas DataFrame, the NULL value is represented as `<NA>`.  You can replace the `<NA>` values with `None` or any other value using the `fillna()` method.  Let's replace the `<NA>` values with `0` for this employee.  It is often better to keep values as `None` or `NULL` in the database.  We often remove `NULL` values from the data when we load it into a DataFrame.  However, in this case, we want to keep the `NULL` values to represent the absence of a manager and therefore, we'll convert the `<NA>` values to `0`."
   ]
  },
  {
   "cell_type": "code",
   "execution_count": 6,
   "metadata": {},
   "outputs": [
    {
     "data": {
      "text/html": [
       "<div>\n",
       "<style scoped>\n",
       "    .dataframe tbody tr th:only-of-type {\n",
       "        vertical-align: middle;\n",
       "    }\n",
       "\n",
       "    .dataframe tbody tr th {\n",
       "        vertical-align: top;\n",
       "    }\n",
       "\n",
       "    .dataframe thead th {\n",
       "        text-align: right;\n",
       "    }\n",
       "</style>\n",
       "<table border=\"1\" class=\"dataframe\">\n",
       "  <thead>\n",
       "    <tr style=\"text-align: right;\">\n",
       "      <th></th>\n",
       "      <th>employee_id</th>\n",
       "      <th>manager_id</th>\n",
       "    </tr>\n",
       "  </thead>\n",
       "  <tbody>\n",
       "    <tr>\n",
       "      <th>0</th>\n",
       "      <td>1</td>\n",
       "      <td>0</td>\n",
       "    </tr>\n",
       "    <tr>\n",
       "      <th>1</th>\n",
       "      <td>2</td>\n",
       "      <td>1</td>\n",
       "    </tr>\n",
       "    <tr>\n",
       "      <th>2</th>\n",
       "      <td>3</td>\n",
       "      <td>1</td>\n",
       "    </tr>\n",
       "    <tr>\n",
       "      <th>3</th>\n",
       "      <td>4</td>\n",
       "      <td>2</td>\n",
       "    </tr>\n",
       "    <tr>\n",
       "      <th>4</th>\n",
       "      <td>5</td>\n",
       "      <td>2</td>\n",
       "    </tr>\n",
       "    <tr>\n",
       "      <th>5</th>\n",
       "      <td>6</td>\n",
       "      <td>3</td>\n",
       "    </tr>\n",
       "    <tr>\n",
       "      <th>6</th>\n",
       "      <td>7</td>\n",
       "      <td>4</td>\n",
       "    </tr>\n",
       "  </tbody>\n",
       "</table>\n",
       "</div>"
      ],
      "text/plain": [
       "   employee_id  manager_id\n",
       "0            1           0\n",
       "1            2           1\n",
       "2            3           1\n",
       "3            4           2\n",
       "4            5           2\n",
       "5            6           3\n",
       "6            7           4"
      ]
     },
     "execution_count": 6,
     "metadata": {},
     "output_type": "execute_result"
    }
   ],
   "source": [
    "df['manager_id'] = df['manager_id'].fillna(0)\n",
    "\n",
    "# Print the DataFrame\n",
    "df"
   ]
  },
  {
   "cell_type": "markdown",
   "metadata": {},
   "source": [
    "---\n",
    "\n",
    "---"
   ]
  },
  {
   "cell_type": "markdown",
   "metadata": {},
   "source": [
    "## 2. Reusability Query Demo\n",
    "\n",
    "CTEs can be referenced multiple times within a query, allowing you to reuse the same logic in different parts of the query.  Let's see an example of this."
   ]
  },
  {
   "cell_type": "markdown",
   "metadata": {},
   "source": [
    "#### Define the CTE Query as a String variable in Python"
   ]
  },
  {
   "cell_type": "code",
   "execution_count": 22,
   "metadata": {},
   "outputs": [],
   "source": [
    "# Define the CTE query as a String variable in Python\n",
    "\n",
    "reusable_cte_query = '''\n",
    "WITH RECURSIVE employee_hierarchy AS (\n",
    "    SELECT employee_id, name, manager_id, 0 AS depth\n",
    "    FROM employees\n",
    "    WHERE manager_id IS NULL\n",
    "    UNION ALL\n",
    "    SELECT e.employee_id, e.name, e.manager_id, eh.depth + 1\n",
    "    FROM employees e\n",
    "    JOIN employee_hierarchy eh ON e.manager_id = eh.employee_id\n",
    ")\n",
    "'''"
   ]
  },
  {
   "cell_type": "markdown",
   "metadata": {},
   "source": [
    "#### Define and Execute some Queries that re-use the CTE"
   ]
  },
  {
   "cell_type": "code",
   "execution_count": 8,
   "metadata": {},
   "outputs": [],
   "source": [
    "# Query 1: Select all employees in the hierarchy\n",
    "query1 = reusable_cte_query + '''\n",
    "SELECT *\n",
    "FROM employee_hierarchy;\n",
    "'''\n",
    "\n",
    "# Query 2: Count the number of employees under each manager\n",
    "query2 = reusable_cte_query + '''\n",
    "SELECT manager_id, COUNT(employee_id) AS num_employees\n",
    "FROM employee_hierarchy\n",
    "GROUP BY manager_id;\n",
    "'''\n",
    "\n",
    "# Query 3: Find the depth of the hierarchy for each employee\n",
    "query3 = reusable_cte_query + '''\n",
    "SELECT employee_id, name, manager_id, depth \n",
    "FROM employee_hierarchy;\n",
    "'''"
   ]
  },
  {
   "cell_type": "markdown",
   "metadata": {},
   "source": [
    "#### Execute the Query and put the result into a Pandas DataFrame"
   ]
  },
  {
   "cell_type": "code",
   "execution_count": 9,
   "metadata": {},
   "outputs": [
    {
     "name": "stdout",
     "output_type": "stream",
     "text": [
      "df1:\n",
      "   employee_id     name  manager_id  depth\n",
      "0            1    Alice           0      0\n",
      "1            2      Bob           1      1\n",
      "2            3  Charlie           1      1\n",
      "3            4    David           2      2\n",
      "4            5      Eve           2      2\n",
      "5            6    Frank           3      2\n",
      "6            7    Grace           4      3\n",
      "\n",
      "\n",
      "df2:\n",
      "   manager_id  num_employees\n",
      "0           0              1\n",
      "1           1              2\n",
      "2           2              2\n",
      "3           3              1\n",
      "4           4              1\n",
      "\n",
      "\n",
      "df3:\n",
      "   employee_id     name  manager_id  depth\n",
      "0            1    Alice           0      0\n",
      "1            2      Bob           1      1\n",
      "2            3  Charlie           1      1\n",
      "3            4    David           2      2\n",
      "4            5      Eve           2      2\n",
      "5            6    Frank           3      2\n",
      "6            7    Grace           4      3\n",
      "\n",
      "\n"
     ]
    }
   ],
   "source": [
    "# Dictionary to store DataFrames\n",
    "dfs = {}\n",
    "\n",
    "# Execute each query and store the result in the dictionary\n",
    "for i, query in enumerate([query1, query2, query3], start=1):\n",
    "    df_name = f'df{i}'\n",
    "    dfs[df_name] = pd.read_sql(query, conn)\n",
    "    if 'manager_id' in dfs[df_name].columns:\n",
    "        dfs[df_name]['manager_id'] = dfs[df_name]['manager_id'].astype('Int64').fillna(0)\n",
    "    \n",
    "# Display the DataFrames\n",
    "for df_name, df in dfs.items():\n",
    "    print(f\"{df_name}:\")\n",
    "    print(df)\n",
    "    print(\"\\n\")"
   ]
  },
  {
   "cell_type": "markdown",
   "metadata": {},
   "source": [
    "The organisation chart data is generated by the CTE and then used in the subsequent queries to find the employees who report to a specific manager.\n",
    "\n",
    "We can use `Matplotlib` and another library to visualize the data in the DataFrame.  We can use `networkx` to create a graph of the organization chart and `pydot` to help with its layout.  `networkx` is a Python library for creating, manipulating, and studying complex networks but it will help create the visualisation we want here.  `pydot` is a Python interface to Graphviz's Dot language and it will help with the layout of the graph (you may need to have Graphviz installed on your system to use `pydot`):\n",
    "\n",
    "> On a Mac, you can install Graphviz using Homebrew with the command `brew install graphviz`.\n",
    "> On Windows, you can download the Graphviz installer from the Graphviz website and run it to install Graphviz."
   ]
  },
  {
   "cell_type": "code",
   "execution_count": 10,
   "metadata": {},
   "outputs": [],
   "source": [
    "# Import the libraries\n",
    "import matplotlib.pyplot as plt\n",
    "import networkx as nx"
   ]
  },
  {
   "cell_type": "code",
   "execution_count": 11,
   "metadata": {},
   "outputs": [],
   "source": [
    "# Create a directed graph\n",
    "G = nx.DiGraph()"
   ]
  },
  {
   "cell_type": "code",
   "execution_count": 14,
   "metadata": {},
   "outputs": [
    {
     "data": {
      "text/html": [
       "<div>\n",
       "<style scoped>\n",
       "    .dataframe tbody tr th:only-of-type {\n",
       "        vertical-align: middle;\n",
       "    }\n",
       "\n",
       "    .dataframe tbody tr th {\n",
       "        vertical-align: top;\n",
       "    }\n",
       "\n",
       "    .dataframe thead th {\n",
       "        text-align: right;\n",
       "    }\n",
       "</style>\n",
       "<table border=\"1\" class=\"dataframe\">\n",
       "  <thead>\n",
       "    <tr style=\"text-align: right;\">\n",
       "      <th></th>\n",
       "      <th>employee_id</th>\n",
       "      <th>name</th>\n",
       "      <th>manager_id</th>\n",
       "      <th>depth</th>\n",
       "    </tr>\n",
       "  </thead>\n",
       "  <tbody>\n",
       "    <tr>\n",
       "      <th>0</th>\n",
       "      <td>1</td>\n",
       "      <td>Alice</td>\n",
       "      <td>0</td>\n",
       "      <td>0</td>\n",
       "    </tr>\n",
       "    <tr>\n",
       "      <th>1</th>\n",
       "      <td>2</td>\n",
       "      <td>Bob</td>\n",
       "      <td>1</td>\n",
       "      <td>1</td>\n",
       "    </tr>\n",
       "    <tr>\n",
       "      <th>2</th>\n",
       "      <td>3</td>\n",
       "      <td>Charlie</td>\n",
       "      <td>1</td>\n",
       "      <td>1</td>\n",
       "    </tr>\n",
       "    <tr>\n",
       "      <th>3</th>\n",
       "      <td>4</td>\n",
       "      <td>David</td>\n",
       "      <td>2</td>\n",
       "      <td>2</td>\n",
       "    </tr>\n",
       "    <tr>\n",
       "      <th>4</th>\n",
       "      <td>5</td>\n",
       "      <td>Eve</td>\n",
       "      <td>2</td>\n",
       "      <td>2</td>\n",
       "    </tr>\n",
       "    <tr>\n",
       "      <th>5</th>\n",
       "      <td>6</td>\n",
       "      <td>Frank</td>\n",
       "      <td>3</td>\n",
       "      <td>2</td>\n",
       "    </tr>\n",
       "    <tr>\n",
       "      <th>6</th>\n",
       "      <td>7</td>\n",
       "      <td>Grace</td>\n",
       "      <td>4</td>\n",
       "      <td>3</td>\n",
       "    </tr>\n",
       "  </tbody>\n",
       "</table>\n",
       "</div>"
      ],
      "text/plain": [
       "   employee_id     name  manager_id  depth\n",
       "0            1    Alice           0      0\n",
       "1            2      Bob           1      1\n",
       "2            3  Charlie           1      1\n",
       "3            4    David           2      2\n",
       "4            5      Eve           2      2\n",
       "5            6    Frank           3      2\n",
       "6            7    Grace           4      3"
      ]
     },
     "execution_count": 14,
     "metadata": {},
     "output_type": "execute_result"
    }
   ],
   "source": [
    "# Specify the dataframe to plot\n",
    "df = dfs['df3']\n",
    "\n",
    "df.head(7)"
   ]
  },
  {
   "cell_type": "code",
   "execution_count": 16,
   "metadata": {},
   "outputs": [
    {
     "ename": "FileNotFoundError",
     "evalue": "[Errno 2] \"dot\" not found in path.",
     "output_type": "error",
     "traceback": [
      "\u001b[0;31m---------------------------------------------------------------------------\u001b[0m",
      "\u001b[0;31mFileNotFoundError\u001b[0m                         Traceback (most recent call last)",
      "File \u001b[0;32m~/Desktop/ADVANCED-SQL/advanced-sql/.venv/lib/python3.11/site-packages/pydot/core.py:1851\u001b[0m, in \u001b[0;36mDot.create\u001b[0;34m(self, prog, format, encoding)\u001b[0m\n\u001b[1;32m   1850\u001b[0m \u001b[38;5;28;01mtry\u001b[39;00m:\n\u001b[0;32m-> 1851\u001b[0m     stdout_data, stderr_data, process \u001b[38;5;241m=\u001b[39m \u001b[43mcall_graphviz\u001b[49m\u001b[43m(\u001b[49m\n\u001b[1;32m   1852\u001b[0m \u001b[43m        \u001b[49m\u001b[43mprogram\u001b[49m\u001b[38;5;241;43m=\u001b[39;49m\u001b[43mprog\u001b[49m\u001b[43m,\u001b[49m\n\u001b[1;32m   1853\u001b[0m \u001b[43m        \u001b[49m\u001b[43marguments\u001b[49m\u001b[38;5;241;43m=\u001b[39;49m\u001b[43marguments\u001b[49m\u001b[43m,\u001b[49m\n\u001b[1;32m   1854\u001b[0m \u001b[43m        \u001b[49m\u001b[43mworking_dir\u001b[49m\u001b[38;5;241;43m=\u001b[39;49m\u001b[43mtmp_dir\u001b[49m\u001b[43m,\u001b[49m\n\u001b[1;32m   1855\u001b[0m \u001b[43m    \u001b[49m\u001b[43m)\u001b[49m\n\u001b[1;32m   1856\u001b[0m \u001b[38;5;28;01mexcept\u001b[39;00m \u001b[38;5;167;01mOSError\u001b[39;00m \u001b[38;5;28;01mas\u001b[39;00m e:\n",
      "File \u001b[0;32m~/Desktop/ADVANCED-SQL/advanced-sql/.venv/lib/python3.11/site-packages/pydot/core.py:211\u001b[0m, in \u001b[0;36mcall_graphviz\u001b[0;34m(program, arguments, working_dir, **kwargs)\u001b[0m\n\u001b[1;32m    209\u001b[0m program_with_args \u001b[38;5;241m=\u001b[39m [program] \u001b[38;5;241m+\u001b[39m arguments\n\u001b[0;32m--> 211\u001b[0m process \u001b[38;5;241m=\u001b[39m \u001b[43msubprocess\u001b[49m\u001b[38;5;241;43m.\u001b[39;49m\u001b[43mPopen\u001b[49m\u001b[43m(\u001b[49m\n\u001b[1;32m    212\u001b[0m \u001b[43m    \u001b[49m\u001b[43mprogram_with_args\u001b[49m\u001b[43m,\u001b[49m\n\u001b[1;32m    213\u001b[0m \u001b[43m    \u001b[49m\u001b[43menv\u001b[49m\u001b[38;5;241;43m=\u001b[39;49m\u001b[43menv\u001b[49m\u001b[43m,\u001b[49m\n\u001b[1;32m    214\u001b[0m \u001b[43m    \u001b[49m\u001b[43mcwd\u001b[49m\u001b[38;5;241;43m=\u001b[39;49m\u001b[43mworking_dir\u001b[49m\u001b[43m,\u001b[49m\n\u001b[1;32m    215\u001b[0m \u001b[43m    \u001b[49m\u001b[43mshell\u001b[49m\u001b[38;5;241;43m=\u001b[39;49m\u001b[38;5;28;43;01mFalse\u001b[39;49;00m\u001b[43m,\u001b[49m\n\u001b[1;32m    216\u001b[0m \u001b[43m    \u001b[49m\u001b[43mstderr\u001b[49m\u001b[38;5;241;43m=\u001b[39;49m\u001b[43msubprocess\u001b[49m\u001b[38;5;241;43m.\u001b[39;49m\u001b[43mPIPE\u001b[49m\u001b[43m,\u001b[49m\n\u001b[1;32m    217\u001b[0m \u001b[43m    \u001b[49m\u001b[43mstdout\u001b[49m\u001b[38;5;241;43m=\u001b[39;49m\u001b[43msubprocess\u001b[49m\u001b[38;5;241;43m.\u001b[39;49m\u001b[43mPIPE\u001b[49m\u001b[43m,\u001b[49m\n\u001b[1;32m    218\u001b[0m \u001b[43m    \u001b[49m\u001b[38;5;241;43m*\u001b[39;49m\u001b[38;5;241;43m*\u001b[39;49m\u001b[43mkwargs\u001b[49m\u001b[43m,\u001b[49m\n\u001b[1;32m    219\u001b[0m \u001b[43m\u001b[49m\u001b[43m)\u001b[49m\n\u001b[1;32m    220\u001b[0m stdout_data, stderr_data \u001b[38;5;241m=\u001b[39m process\u001b[38;5;241m.\u001b[39mcommunicate()\n",
      "File \u001b[0;32m/Library/Frameworks/Python.framework/Versions/3.11/lib/python3.11/subprocess.py:1026\u001b[0m, in \u001b[0;36mPopen.__init__\u001b[0;34m(self, args, bufsize, executable, stdin, stdout, stderr, preexec_fn, close_fds, shell, cwd, env, universal_newlines, startupinfo, creationflags, restore_signals, start_new_session, pass_fds, user, group, extra_groups, encoding, errors, text, umask, pipesize, process_group)\u001b[0m\n\u001b[1;32m   1023\u001b[0m             \u001b[38;5;28mself\u001b[39m\u001b[38;5;241m.\u001b[39mstderr \u001b[38;5;241m=\u001b[39m io\u001b[38;5;241m.\u001b[39mTextIOWrapper(\u001b[38;5;28mself\u001b[39m\u001b[38;5;241m.\u001b[39mstderr,\n\u001b[1;32m   1024\u001b[0m                     encoding\u001b[38;5;241m=\u001b[39mencoding, errors\u001b[38;5;241m=\u001b[39merrors)\n\u001b[0;32m-> 1026\u001b[0m     \u001b[38;5;28;43mself\u001b[39;49m\u001b[38;5;241;43m.\u001b[39;49m\u001b[43m_execute_child\u001b[49m\u001b[43m(\u001b[49m\u001b[43margs\u001b[49m\u001b[43m,\u001b[49m\u001b[43m \u001b[49m\u001b[43mexecutable\u001b[49m\u001b[43m,\u001b[49m\u001b[43m \u001b[49m\u001b[43mpreexec_fn\u001b[49m\u001b[43m,\u001b[49m\u001b[43m \u001b[49m\u001b[43mclose_fds\u001b[49m\u001b[43m,\u001b[49m\n\u001b[1;32m   1027\u001b[0m \u001b[43m                        \u001b[49m\u001b[43mpass_fds\u001b[49m\u001b[43m,\u001b[49m\u001b[43m \u001b[49m\u001b[43mcwd\u001b[49m\u001b[43m,\u001b[49m\u001b[43m \u001b[49m\u001b[43menv\u001b[49m\u001b[43m,\u001b[49m\n\u001b[1;32m   1028\u001b[0m \u001b[43m                        \u001b[49m\u001b[43mstartupinfo\u001b[49m\u001b[43m,\u001b[49m\u001b[43m \u001b[49m\u001b[43mcreationflags\u001b[49m\u001b[43m,\u001b[49m\u001b[43m \u001b[49m\u001b[43mshell\u001b[49m\u001b[43m,\u001b[49m\n\u001b[1;32m   1029\u001b[0m \u001b[43m                        \u001b[49m\u001b[43mp2cread\u001b[49m\u001b[43m,\u001b[49m\u001b[43m \u001b[49m\u001b[43mp2cwrite\u001b[49m\u001b[43m,\u001b[49m\n\u001b[1;32m   1030\u001b[0m \u001b[43m                        \u001b[49m\u001b[43mc2pread\u001b[49m\u001b[43m,\u001b[49m\u001b[43m \u001b[49m\u001b[43mc2pwrite\u001b[49m\u001b[43m,\u001b[49m\n\u001b[1;32m   1031\u001b[0m \u001b[43m                        \u001b[49m\u001b[43merrread\u001b[49m\u001b[43m,\u001b[49m\u001b[43m \u001b[49m\u001b[43merrwrite\u001b[49m\u001b[43m,\u001b[49m\n\u001b[1;32m   1032\u001b[0m \u001b[43m                        \u001b[49m\u001b[43mrestore_signals\u001b[49m\u001b[43m,\u001b[49m\n\u001b[1;32m   1033\u001b[0m \u001b[43m                        \u001b[49m\u001b[43mgid\u001b[49m\u001b[43m,\u001b[49m\u001b[43m \u001b[49m\u001b[43mgids\u001b[49m\u001b[43m,\u001b[49m\u001b[43m \u001b[49m\u001b[43muid\u001b[49m\u001b[43m,\u001b[49m\u001b[43m \u001b[49m\u001b[43mumask\u001b[49m\u001b[43m,\u001b[49m\n\u001b[1;32m   1034\u001b[0m \u001b[43m                        \u001b[49m\u001b[43mstart_new_session\u001b[49m\u001b[43m,\u001b[49m\u001b[43m \u001b[49m\u001b[43mprocess_group\u001b[49m\u001b[43m)\u001b[49m\n\u001b[1;32m   1035\u001b[0m \u001b[38;5;28;01mexcept\u001b[39;00m:\n\u001b[1;32m   1036\u001b[0m     \u001b[38;5;66;03m# Cleanup if the child failed starting.\u001b[39;00m\n",
      "File \u001b[0;32m/Library/Frameworks/Python.framework/Versions/3.11/lib/python3.11/subprocess.py:1950\u001b[0m, in \u001b[0;36mPopen._execute_child\u001b[0;34m(self, args, executable, preexec_fn, close_fds, pass_fds, cwd, env, startupinfo, creationflags, shell, p2cread, p2cwrite, c2pread, c2pwrite, errread, errwrite, restore_signals, gid, gids, uid, umask, start_new_session, process_group)\u001b[0m\n\u001b[1;32m   1949\u001b[0m         err_msg \u001b[38;5;241m=\u001b[39m os\u001b[38;5;241m.\u001b[39mstrerror(errno_num)\n\u001b[0;32m-> 1950\u001b[0m     \u001b[38;5;28;01mraise\u001b[39;00m child_exception_type(errno_num, err_msg, err_filename)\n\u001b[1;32m   1951\u001b[0m \u001b[38;5;28;01mraise\u001b[39;00m child_exception_type(err_msg)\n",
      "\u001b[0;31mFileNotFoundError\u001b[0m: [Errno 2] No such file or directory: 'dot'",
      "\nDuring handling of the above exception, another exception occurred:\n",
      "\u001b[0;31mFileNotFoundError\u001b[0m                         Traceback (most recent call last)",
      "Cell \u001b[0;32mIn[16], line 12\u001b[0m\n\u001b[1;32m      9\u001b[0m         G\u001b[38;5;241m.\u001b[39madd_edge(manager_name, row[\u001b[38;5;124m\"\u001b[39m\u001b[38;5;124mname\u001b[39m\u001b[38;5;124m\"\u001b[39m])\n\u001b[1;32m     11\u001b[0m \u001b[38;5;66;03m# Use pydot layout for hierarchical positioning - note - pydot has to be installed as a dependency! pip install pydot\u001b[39;00m\n\u001b[0;32m---> 12\u001b[0m pos \u001b[38;5;241m=\u001b[39m \u001b[43mnx\u001b[49m\u001b[38;5;241;43m.\u001b[39;49m\u001b[43mnx_pydot\u001b[49m\u001b[38;5;241;43m.\u001b[39;49m\u001b[43mpydot_layout\u001b[49m\u001b[43m(\u001b[49m\u001b[43mG\u001b[49m\u001b[43m,\u001b[49m\u001b[43m \u001b[49m\u001b[43mprog\u001b[49m\u001b[38;5;241;43m=\u001b[39;49m\u001b[38;5;124;43m\"\u001b[39;49m\u001b[38;5;124;43mdot\u001b[39;49m\u001b[38;5;124;43m\"\u001b[39;49m\u001b[43m)\u001b[49m  \u001b[38;5;66;03m# \"dot\" ensures hierarchical layout\u001b[39;00m\n\u001b[1;32m     14\u001b[0m \u001b[38;5;66;03m# Draw the graph\u001b[39;00m\n\u001b[1;32m     15\u001b[0m plt\u001b[38;5;241m.\u001b[39mfigure(figsize\u001b[38;5;241m=\u001b[39m(\u001b[38;5;241m10\u001b[39m, \u001b[38;5;241m6\u001b[39m))\n",
      "File \u001b[0;32m~/Desktop/ADVANCED-SQL/advanced-sql/.venv/lib/python3.11/site-packages/networkx/drawing/nx_pydot.py:320\u001b[0m, in \u001b[0;36mpydot_layout\u001b[0;34m(G, prog, root)\u001b[0m\n\u001b[1;32m    316\u001b[0m     P\u001b[38;5;241m.\u001b[39mset(\u001b[38;5;124m\"\u001b[39m\u001b[38;5;124mroot\u001b[39m\u001b[38;5;124m\"\u001b[39m, \u001b[38;5;28mstr\u001b[39m(root))\n\u001b[1;32m    318\u001b[0m \u001b[38;5;66;03m# List of low-level bytes comprising a string in the dot language converted\u001b[39;00m\n\u001b[1;32m    319\u001b[0m \u001b[38;5;66;03m# from the passed graph with the passed external GraphViz command.\u001b[39;00m\n\u001b[0;32m--> 320\u001b[0m D_bytes \u001b[38;5;241m=\u001b[39m \u001b[43mP\u001b[49m\u001b[38;5;241;43m.\u001b[39;49m\u001b[43mcreate_dot\u001b[49m\u001b[43m(\u001b[49m\u001b[43mprog\u001b[49m\u001b[38;5;241;43m=\u001b[39;49m\u001b[43mprog\u001b[49m\u001b[43m)\u001b[49m\n\u001b[1;32m    322\u001b[0m \u001b[38;5;66;03m# Unique string decoded from these bytes with the preferred locale encoding\u001b[39;00m\n\u001b[1;32m    323\u001b[0m D \u001b[38;5;241m=\u001b[39m \u001b[38;5;28mstr\u001b[39m(D_bytes, encoding\u001b[38;5;241m=\u001b[39mgetpreferredencoding())\n",
      "File \u001b[0;32m~/Desktop/ADVANCED-SQL/advanced-sql/.venv/lib/python3.11/site-packages/pydot/core.py:158\u001b[0m, in \u001b[0;36m__generate_format_methods.<locals>.__create_method\u001b[0;34m(self, f, prog, encoding)\u001b[0m\n\u001b[1;32m    156\u001b[0m \u001b[38;5;28;01mdef\u001b[39;00m \u001b[38;5;21m__create_method\u001b[39m(\u001b[38;5;28mself\u001b[39m, f\u001b[38;5;241m=\u001b[39mfrmt, prog\u001b[38;5;241m=\u001b[39m\u001b[38;5;28;01mNone\u001b[39;00m, encoding\u001b[38;5;241m=\u001b[39m\u001b[38;5;28;01mNone\u001b[39;00m):\n\u001b[1;32m    157\u001b[0m \u001b[38;5;250m    \u001b[39m\u001b[38;5;124;03m\"\"\"Refer to docstring of method `create`.\"\"\"\u001b[39;00m\n\u001b[0;32m--> 158\u001b[0m     \u001b[38;5;28;01mreturn\u001b[39;00m \u001b[38;5;28;43mself\u001b[39;49m\u001b[38;5;241;43m.\u001b[39;49m\u001b[43mcreate\u001b[49m\u001b[43m(\u001b[49m\u001b[38;5;28;43mformat\u001b[39;49m\u001b[38;5;241;43m=\u001b[39;49m\u001b[43mf\u001b[49m\u001b[43m,\u001b[49m\u001b[43m \u001b[49m\u001b[43mprog\u001b[49m\u001b[38;5;241;43m=\u001b[39;49m\u001b[43mprog\u001b[49m\u001b[43m,\u001b[49m\u001b[43m \u001b[49m\u001b[43mencoding\u001b[49m\u001b[38;5;241;43m=\u001b[39;49m\u001b[43mencoding\u001b[49m\u001b[43m)\u001b[49m\n",
      "File \u001b[0;32m~/Desktop/ADVANCED-SQL/advanced-sql/.venv/lib/python3.11/site-packages/pydot/core.py:1860\u001b[0m, in \u001b[0;36mDot.create\u001b[0;34m(self, prog, format, encoding)\u001b[0m\n\u001b[1;32m   1858\u001b[0m     args \u001b[38;5;241m=\u001b[39m \u001b[38;5;28mlist\u001b[39m(e\u001b[38;5;241m.\u001b[39margs)\n\u001b[1;32m   1859\u001b[0m     args[\u001b[38;5;241m1\u001b[39m] \u001b[38;5;241m=\u001b[39m \u001b[38;5;124mf\u001b[39m\u001b[38;5;124m'\u001b[39m\u001b[38;5;124m\"\u001b[39m\u001b[38;5;132;01m{\u001b[39;00mprog\u001b[38;5;132;01m}\u001b[39;00m\u001b[38;5;124m\"\u001b[39m\u001b[38;5;124m not found in path.\u001b[39m\u001b[38;5;124m'\u001b[39m\n\u001b[0;32m-> 1860\u001b[0m     \u001b[38;5;28;01mraise\u001b[39;00m \u001b[38;5;167;01mOSError\u001b[39;00m(\u001b[38;5;241m*\u001b[39margs)\n\u001b[1;32m   1861\u001b[0m \u001b[38;5;28;01melse\u001b[39;00m:\n\u001b[1;32m   1862\u001b[0m     \u001b[38;5;28;01mraise\u001b[39;00m\n",
      "\u001b[0;31mFileNotFoundError\u001b[0m: [Errno 2] \"dot\" not found in path."
     ]
    }
   ],
   "source": [
    "# Create a directed graph\n",
    "G = nx.DiGraph()\n",
    "\n",
    "# Add nodes and edges\n",
    "for _, row in df.iterrows():\n",
    "    G.add_node(row[\"name\"])\n",
    "    if row[\"manager_id\"] != 0:  # Exclude the root manager\n",
    "        manager_name = df.loc[df[\"employee_id\"] == row[\"manager_id\"], \"name\"].values[0]\n",
    "        G.add_edge(manager_name, row[\"name\"])\n",
    "\n",
    "# Use pydot layout for hierarchical positioning - note - pydot has to be installed as a dependency! pip install pydot\n",
    "pos = nx.nx_pydot.pydot_layout(G, prog=\"dot\")  # \"dot\" ensures hierarchical layout\n",
    "\n",
    "# Draw the graph\n",
    "plt.figure(figsize=(10, 6))\n",
    "nx.draw(\n",
    "    G, pos,\n",
    "    with_labels=True,\n",
    "    node_size=3000,\n",
    "    node_color=\"lightblue\",\n",
    "    font_size=10,\n",
    "    font_color=\"black\",\n",
    "    edge_color=\"gray\",\n",
    "    arrowsize=20\n",
    ")\n",
    "plt.title(\"Organization Chart (Minimal Crossing)\")\n",
    "plt.show()"
   ]
  },
  {
   "cell_type": "markdown",
   "metadata": {},
   "source": [
    "---\n",
    "\n",
    "---"
   ]
  },
  {
   "cell_type": "markdown",
   "metadata": {},
   "source": [
    "## 3. Data Transformation Query Demo\n",
    "\n",
    "CTEs can be used to transform data in a query, such as aggregating, filtering, or joining data from multiple tables.  Let's see an example of this."
   ]
  },
  {
   "cell_type": "markdown",
   "metadata": {},
   "source": [
    "### Modify and Add to the Database for the Demo"
   ]
  },
  {
   "cell_type": "code",
   "execution_count": 17,
   "metadata": {},
   "outputs": [
    {
     "data": {
      "text/plain": [
       "<sqlite3.Cursor at 0x103d53840>"
      ]
     },
     "execution_count": 17,
     "metadata": {},
     "output_type": "execute_result"
    }
   ],
   "source": [
    "# Create additions to the in-memory SQLite database for aggregating and joining data from multiple tables\n",
    "\n",
    "# Create the departments table\n",
    "\n",
    "cursor.execute('''\n",
    "CREATE TABLE departments (\n",
    "    department_id INTEGER PRIMARY KEY,\n",
    "    name TEXT\n",
    ")\n",
    "''')\n",
    "\n",
    "# Populate the departments table with sample data\n",
    "\n",
    "departments = [\n",
    "    (1, 'Engineering'),\n",
    "    (2, 'Marketing'),\n",
    "    (3, 'Sales'),\n",
    "    (4, 'Executive')\n",
    "]\n",
    "\n",
    "cursor.executemany('INSERT INTO departments (department_id, name) VALUES (?, ?)', departments)\n",
    "\n",
    "# Add department information to the employees table\n",
    "cursor.execute('''\n",
    "ALTER TABLE employees\n",
    "ADD COLUMN department_id INTEGER\n",
    "''')\n",
    "\n",
    "# Update the department_id column with sample data\n",
    "cursor.execute('''\n",
    "UPDATE employees\n",
    "SET department_id = 1\n",
    "WHERE employee_id IN (2, 4, 5, 7)\n",
    "''')\n",
    "\n",
    "cursor.execute('''\n",
    "UPDATE employees\n",
    "SET department_id = 2\n",
    "WHERE employee_id = 3\n",
    "''')\n",
    "\n",
    "cursor.execute('''\n",
    "UPDATE employees\n",
    "SET department_id = 3\n",
    "WHERE employee_id = 6\n",
    "''')\n",
    "\n",
    "cursor.execute('''\n",
    "UPDATE employees\n",
    "SET department_id = 4\n",
    "WHERE employee_id = 1\n",
    "''')\n",
    "\n",
    "\n",
    "# Create the salaries table\n",
    "cursor.execute('''\n",
    "CREATE TABLE salaries (\n",
    "    employee_id INTEGER PRIMARY KEY,\n",
    "    salary INTEGER\n",
    ")\n",
    "''')\n",
    "\n",
    "# Populate the salaries table with sample data\n",
    "\n",
    "salaries = [\n",
    "    (1, 100000),\n",
    "    (2, 80000),\n",
    "    (3, 75000),\n",
    "    (4, 70000),\n",
    "    (5, 60000),\n",
    "    (6, 65000),\n",
    "    (7, 55000),\n",
    "]\n",
    "\n",
    "cursor.executemany('INSERT INTO salaries (employee_id, salary) VALUES (?, ?)', salaries)\n"
   ]
  },
  {
   "cell_type": "markdown",
   "metadata": {},
   "source": [
    "### Query 4 - Data Transformation - Joining\n",
    "\n",
    "The following query will join the employees table with the salaries and department tables and simplify the data by selecting only the relevant columns.\n",
    "\n",
    "> ***QUESTIONS***:\n",
    "> \n",
    "> 1. Why may it be desirable to extract the salary data into a separate table?\n",
    "> 2. Why does this feel like bad database design?\n",
    "> 3. What features of the database could be used to help the security of the salary data?"
   ]
  },
  {
   "cell_type": "code",
   "execution_count": 18,
   "metadata": {},
   "outputs": [],
   "source": [
    "# Define a query to list the employee name, department name, manager name and salary\n",
    "query4 = '''\n",
    "SELECT e.name AS employee_name, d.name AS department_name, m.name AS manager_name, s.salary\n",
    "FROM employees e\n",
    "JOIN departments d ON e.department_id = d.department_id\n",
    "LEFT JOIN employees m ON e.manager_id = m.employee_id\n",
    "JOIN salaries s ON e.employee_id = s.employee_id\n",
    "'''"
   ]
  },
  {
   "cell_type": "code",
   "execution_count": 19,
   "metadata": {},
   "outputs": [
    {
     "data": {
      "text/html": [
       "<div>\n",
       "<style scoped>\n",
       "    .dataframe tbody tr th:only-of-type {\n",
       "        vertical-align: middle;\n",
       "    }\n",
       "\n",
       "    .dataframe tbody tr th {\n",
       "        vertical-align: top;\n",
       "    }\n",
       "\n",
       "    .dataframe thead th {\n",
       "        text-align: right;\n",
       "    }\n",
       "</style>\n",
       "<table border=\"1\" class=\"dataframe\">\n",
       "  <thead>\n",
       "    <tr style=\"text-align: right;\">\n",
       "      <th></th>\n",
       "      <th>employee_name</th>\n",
       "      <th>department_name</th>\n",
       "      <th>manager_name</th>\n",
       "      <th>salary</th>\n",
       "    </tr>\n",
       "  </thead>\n",
       "  <tbody>\n",
       "    <tr>\n",
       "      <th>0</th>\n",
       "      <td>Alice</td>\n",
       "      <td>Executive</td>\n",
       "      <td>None</td>\n",
       "      <td>100000</td>\n",
       "    </tr>\n",
       "    <tr>\n",
       "      <th>1</th>\n",
       "      <td>Bob</td>\n",
       "      <td>Engineering</td>\n",
       "      <td>Alice</td>\n",
       "      <td>80000</td>\n",
       "    </tr>\n",
       "    <tr>\n",
       "      <th>2</th>\n",
       "      <td>Charlie</td>\n",
       "      <td>Marketing</td>\n",
       "      <td>Alice</td>\n",
       "      <td>75000</td>\n",
       "    </tr>\n",
       "    <tr>\n",
       "      <th>3</th>\n",
       "      <td>David</td>\n",
       "      <td>Engineering</td>\n",
       "      <td>Bob</td>\n",
       "      <td>70000</td>\n",
       "    </tr>\n",
       "    <tr>\n",
       "      <th>4</th>\n",
       "      <td>Eve</td>\n",
       "      <td>Engineering</td>\n",
       "      <td>Bob</td>\n",
       "      <td>60000</td>\n",
       "    </tr>\n",
       "    <tr>\n",
       "      <th>5</th>\n",
       "      <td>Frank</td>\n",
       "      <td>Sales</td>\n",
       "      <td>Charlie</td>\n",
       "      <td>65000</td>\n",
       "    </tr>\n",
       "    <tr>\n",
       "      <th>6</th>\n",
       "      <td>Grace</td>\n",
       "      <td>Engineering</td>\n",
       "      <td>David</td>\n",
       "      <td>55000</td>\n",
       "    </tr>\n",
       "  </tbody>\n",
       "</table>\n",
       "</div>"
      ],
      "text/plain": [
       "  employee_name department_name manager_name  salary\n",
       "0         Alice       Executive         None  100000\n",
       "1           Bob     Engineering        Alice   80000\n",
       "2       Charlie       Marketing        Alice   75000\n",
       "3         David     Engineering          Bob   70000\n",
       "4           Eve     Engineering          Bob   60000\n",
       "5         Frank           Sales      Charlie   65000\n",
       "6         Grace     Engineering        David   55000"
      ]
     },
     "execution_count": 19,
     "metadata": {},
     "output_type": "execute_result"
    }
   ],
   "source": [
    "# Execute the query and convert into a DataFrame\n",
    "df4 = pd.read_sql(query4, conn)\n",
    "\n",
    "# Display the DataFrame\n",
    "df4"
   ]
  },
  {
   "cell_type": "markdown",
   "metadata": {},
   "source": [
    "***Hang on just a minute...that query is not a CTE!  However, is it easy to read?  Could it be improved?  Let's see how we can use a CTE to make this query more readable.***"
   ]
  },
  {
   "cell_type": "code",
   "execution_count": 20,
   "metadata": {},
   "outputs": [],
   "source": [
    "employee_details_cte = '''\n",
    "WITH employee_details AS (\n",
    "    SELECT \n",
    "        e.employee_id,\n",
    "        e.name AS employee_name,\n",
    "        e.manager_id,\n",
    "        e.department_id,\n",
    "        s.salary\n",
    "    FROM \n",
    "        employees e\n",
    "    JOIN \n",
    "        salaries s ON e.employee_id = s.employee_id\n",
    ")\n",
    "'''\n",
    "\n",
    "department_details_cte = '''\n",
    "department_details AS (\n",
    "    SELECT \n",
    "        d.department_id,\n",
    "        d.name AS department_name\n",
    "    FROM \n",
    "        departments d\n",
    ")\n",
    "'''\n",
    "\n",
    "manager_details_cte = '''\n",
    "manager_details AS (\n",
    "    SELECT \n",
    "        m.employee_id,\n",
    "        m.name AS manager_name\n",
    "    FROM \n",
    "        employees m\n",
    ")\n",
    "'''\n",
    "\n",
    "actual_query = '''\n",
    "SELECT \n",
    "    ed.employee_name, \n",
    "    dd.department_name, \n",
    "    md.manager_name, \n",
    "    ed.salary\n",
    "FROM \n",
    "    employee_details ed\n",
    "JOIN \n",
    "    department_details dd ON ed.department_id = dd.department_id\n",
    "LEFT JOIN \n",
    "    manager_details md ON ed.manager_id = md.employee_id;\n",
    "'''\n",
    "\n",
    "# Define the main query to join the CTEs\n",
    "query5 = employee_details_cte + ', ' + department_details_cte + ', ' + manager_details_cte + actual_query\n"
   ]
  },
  {
   "cell_type": "code",
   "execution_count": 21,
   "metadata": {},
   "outputs": [
    {
     "data": {
      "text/html": [
       "<div>\n",
       "<style scoped>\n",
       "    .dataframe tbody tr th:only-of-type {\n",
       "        vertical-align: middle;\n",
       "    }\n",
       "\n",
       "    .dataframe tbody tr th {\n",
       "        vertical-align: top;\n",
       "    }\n",
       "\n",
       "    .dataframe thead th {\n",
       "        text-align: right;\n",
       "    }\n",
       "</style>\n",
       "<table border=\"1\" class=\"dataframe\">\n",
       "  <thead>\n",
       "    <tr style=\"text-align: right;\">\n",
       "      <th></th>\n",
       "      <th>employee_name</th>\n",
       "      <th>department_name</th>\n",
       "      <th>manager_name</th>\n",
       "      <th>salary</th>\n",
       "    </tr>\n",
       "  </thead>\n",
       "  <tbody>\n",
       "    <tr>\n",
       "      <th>0</th>\n",
       "      <td>Alice</td>\n",
       "      <td>Executive</td>\n",
       "      <td>None</td>\n",
       "      <td>100000</td>\n",
       "    </tr>\n",
       "    <tr>\n",
       "      <th>1</th>\n",
       "      <td>Bob</td>\n",
       "      <td>Engineering</td>\n",
       "      <td>Alice</td>\n",
       "      <td>80000</td>\n",
       "    </tr>\n",
       "    <tr>\n",
       "      <th>2</th>\n",
       "      <td>Charlie</td>\n",
       "      <td>Marketing</td>\n",
       "      <td>Alice</td>\n",
       "      <td>75000</td>\n",
       "    </tr>\n",
       "    <tr>\n",
       "      <th>3</th>\n",
       "      <td>David</td>\n",
       "      <td>Engineering</td>\n",
       "      <td>Bob</td>\n",
       "      <td>70000</td>\n",
       "    </tr>\n",
       "    <tr>\n",
       "      <th>4</th>\n",
       "      <td>Eve</td>\n",
       "      <td>Engineering</td>\n",
       "      <td>Bob</td>\n",
       "      <td>60000</td>\n",
       "    </tr>\n",
       "    <tr>\n",
       "      <th>5</th>\n",
       "      <td>Frank</td>\n",
       "      <td>Sales</td>\n",
       "      <td>Charlie</td>\n",
       "      <td>65000</td>\n",
       "    </tr>\n",
       "    <tr>\n",
       "      <th>6</th>\n",
       "      <td>Grace</td>\n",
       "      <td>Engineering</td>\n",
       "      <td>David</td>\n",
       "      <td>55000</td>\n",
       "    </tr>\n",
       "  </tbody>\n",
       "</table>\n",
       "</div>"
      ],
      "text/plain": [
       "  employee_name department_name manager_name  salary\n",
       "0         Alice       Executive         None  100000\n",
       "1           Bob     Engineering        Alice   80000\n",
       "2       Charlie       Marketing        Alice   75000\n",
       "3         David     Engineering          Bob   70000\n",
       "4           Eve     Engineering          Bob   60000\n",
       "5         Frank           Sales      Charlie   65000\n",
       "6         Grace     Engineering        David   55000"
      ]
     },
     "execution_count": 21,
     "metadata": {},
     "output_type": "execute_result"
    }
   ],
   "source": [
    "# Execute the query and convert into a DataFrame\n",
    "df5 = pd.read_sql(query5, conn)\n",
    "\n",
    "df5"
   ]
  },
  {
   "cell_type": "markdown",
   "metadata": {},
   "source": [
    "---\n",
    "\n",
    "---"
   ]
  },
  {
   "cell_type": "markdown",
   "metadata": {},
   "source": [
    "## Over to you...\n",
    "\n",
    "### Activity 1\n",
    "\n",
    "Given the tables already created, write query that aggregates the salary data by department and calculates the average salary for each department."
   ]
  },
  {
   "cell_type": "code",
   "execution_count": 34,
   "metadata": {},
   "outputs": [
    {
     "ename": "DatabaseError",
     "evalue": "Execution failed on sql '\nWITH employee_details AS (\n    SELECT \n        e.employee_id,\n        e.name AS employee_name,\n        e.manager_id,\n        e.department_id,\n        s.salary\n    FROM \n        employees e\n    JOIN \n        salaries s ON e.employee_id = s.employee_id\n)\n, \ndepartment_details AS (\n    SELECT \n        d.department_id,\n        d.name AS department_name\n    FROM \n        departments d\n)\n\nSELECT\n    ed.department_id\nFROM\n    employee_details ed\nGROUP BY\n    ed.department_id\nJOIN\n    department_details dd ON ed.department_id = dd.department_id;\n': near \"JOIN\": syntax error",
     "output_type": "error",
     "traceback": [
      "\u001b[0;31m---------------------------------------------------------------------------\u001b[0m",
      "\u001b[0;31mOperationalError\u001b[0m                          Traceback (most recent call last)",
      "File \u001b[0;32m~/Desktop/ADVANCED-SQL/advanced-sql/.venv/lib/python3.11/site-packages/pandas/io/sql.py:2674\u001b[0m, in \u001b[0;36mSQLiteDatabase.execute\u001b[0;34m(self, sql, params)\u001b[0m\n\u001b[1;32m   2673\u001b[0m \u001b[38;5;28;01mtry\u001b[39;00m:\n\u001b[0;32m-> 2674\u001b[0m     \u001b[43mcur\u001b[49m\u001b[38;5;241;43m.\u001b[39;49m\u001b[43mexecute\u001b[49m\u001b[43m(\u001b[49m\u001b[43msql\u001b[49m\u001b[43m,\u001b[49m\u001b[43m \u001b[49m\u001b[38;5;241;43m*\u001b[39;49m\u001b[43margs\u001b[49m\u001b[43m)\u001b[49m\n\u001b[1;32m   2675\u001b[0m     \u001b[38;5;28;01mreturn\u001b[39;00m cur\n",
      "\u001b[0;31mOperationalError\u001b[0m: near \"JOIN\": syntax error",
      "\nThe above exception was the direct cause of the following exception:\n",
      "\u001b[0;31mDatabaseError\u001b[0m                             Traceback (most recent call last)",
      "Cell \u001b[0;32mIn[34], line 25\u001b[0m\n\u001b[1;32m     20\u001b[0m query6 \u001b[38;5;241m=\u001b[39m employee_details_cte \u001b[38;5;241m+\u001b[39m \u001b[38;5;124m'\u001b[39m\u001b[38;5;124m, \u001b[39m\u001b[38;5;124m'\u001b[39m \u001b[38;5;241m+\u001b[39m department_details_cte \u001b[38;5;241m+\u001b[39m add_on_query\n\u001b[1;32m     23\u001b[0m \u001b[38;5;66;03m# Run the query and store the result in a DataFrame\u001b[39;00m\n\u001b[0;32m---> 25\u001b[0m df6 \u001b[38;5;241m=\u001b[39m \u001b[43mpd\u001b[49m\u001b[38;5;241;43m.\u001b[39;49m\u001b[43mread_sql\u001b[49m\u001b[43m(\u001b[49m\u001b[43mquery6\u001b[49m\u001b[43m,\u001b[49m\u001b[43m \u001b[49m\u001b[43mconn\u001b[49m\u001b[43m)\u001b[49m\n\u001b[1;32m     27\u001b[0m df6\n",
      "File \u001b[0;32m~/Desktop/ADVANCED-SQL/advanced-sql/.venv/lib/python3.11/site-packages/pandas/io/sql.py:706\u001b[0m, in \u001b[0;36mread_sql\u001b[0;34m(sql, con, index_col, coerce_float, params, parse_dates, columns, chunksize, dtype_backend, dtype)\u001b[0m\n\u001b[1;32m    704\u001b[0m \u001b[38;5;28;01mwith\u001b[39;00m pandasSQL_builder(con) \u001b[38;5;28;01mas\u001b[39;00m pandas_sql:\n\u001b[1;32m    705\u001b[0m     \u001b[38;5;28;01mif\u001b[39;00m \u001b[38;5;28misinstance\u001b[39m(pandas_sql, SQLiteDatabase):\n\u001b[0;32m--> 706\u001b[0m         \u001b[38;5;28;01mreturn\u001b[39;00m \u001b[43mpandas_sql\u001b[49m\u001b[38;5;241;43m.\u001b[39;49m\u001b[43mread_query\u001b[49m\u001b[43m(\u001b[49m\n\u001b[1;32m    707\u001b[0m \u001b[43m            \u001b[49m\u001b[43msql\u001b[49m\u001b[43m,\u001b[49m\n\u001b[1;32m    708\u001b[0m \u001b[43m            \u001b[49m\u001b[43mindex_col\u001b[49m\u001b[38;5;241;43m=\u001b[39;49m\u001b[43mindex_col\u001b[49m\u001b[43m,\u001b[49m\n\u001b[1;32m    709\u001b[0m \u001b[43m            \u001b[49m\u001b[43mparams\u001b[49m\u001b[38;5;241;43m=\u001b[39;49m\u001b[43mparams\u001b[49m\u001b[43m,\u001b[49m\n\u001b[1;32m    710\u001b[0m \u001b[43m            \u001b[49m\u001b[43mcoerce_float\u001b[49m\u001b[38;5;241;43m=\u001b[39;49m\u001b[43mcoerce_float\u001b[49m\u001b[43m,\u001b[49m\n\u001b[1;32m    711\u001b[0m \u001b[43m            \u001b[49m\u001b[43mparse_dates\u001b[49m\u001b[38;5;241;43m=\u001b[39;49m\u001b[43mparse_dates\u001b[49m\u001b[43m,\u001b[49m\n\u001b[1;32m    712\u001b[0m \u001b[43m            \u001b[49m\u001b[43mchunksize\u001b[49m\u001b[38;5;241;43m=\u001b[39;49m\u001b[43mchunksize\u001b[49m\u001b[43m,\u001b[49m\n\u001b[1;32m    713\u001b[0m \u001b[43m            \u001b[49m\u001b[43mdtype_backend\u001b[49m\u001b[38;5;241;43m=\u001b[39;49m\u001b[43mdtype_backend\u001b[49m\u001b[43m,\u001b[49m\n\u001b[1;32m    714\u001b[0m \u001b[43m            \u001b[49m\u001b[43mdtype\u001b[49m\u001b[38;5;241;43m=\u001b[39;49m\u001b[43mdtype\u001b[49m\u001b[43m,\u001b[49m\n\u001b[1;32m    715\u001b[0m \u001b[43m        \u001b[49m\u001b[43m)\u001b[49m\n\u001b[1;32m    717\u001b[0m     \u001b[38;5;28;01mtry\u001b[39;00m:\n\u001b[1;32m    718\u001b[0m         _is_table_name \u001b[38;5;241m=\u001b[39m pandas_sql\u001b[38;5;241m.\u001b[39mhas_table(sql)\n",
      "File \u001b[0;32m~/Desktop/ADVANCED-SQL/advanced-sql/.venv/lib/python3.11/site-packages/pandas/io/sql.py:2738\u001b[0m, in \u001b[0;36mSQLiteDatabase.read_query\u001b[0;34m(self, sql, index_col, coerce_float, parse_dates, params, chunksize, dtype, dtype_backend)\u001b[0m\n\u001b[1;32m   2727\u001b[0m \u001b[38;5;28;01mdef\u001b[39;00m \u001b[38;5;21mread_query\u001b[39m(\n\u001b[1;32m   2728\u001b[0m     \u001b[38;5;28mself\u001b[39m,\n\u001b[1;32m   2729\u001b[0m     sql,\n\u001b[0;32m   (...)\u001b[0m\n\u001b[1;32m   2736\u001b[0m     dtype_backend: DtypeBackend \u001b[38;5;241m|\u001b[39m Literal[\u001b[38;5;124m\"\u001b[39m\u001b[38;5;124mnumpy\u001b[39m\u001b[38;5;124m\"\u001b[39m] \u001b[38;5;241m=\u001b[39m \u001b[38;5;124m\"\u001b[39m\u001b[38;5;124mnumpy\u001b[39m\u001b[38;5;124m\"\u001b[39m,\n\u001b[1;32m   2737\u001b[0m ) \u001b[38;5;241m-\u001b[39m\u001b[38;5;241m>\u001b[39m DataFrame \u001b[38;5;241m|\u001b[39m Iterator[DataFrame]:\n\u001b[0;32m-> 2738\u001b[0m     cursor \u001b[38;5;241m=\u001b[39m \u001b[38;5;28;43mself\u001b[39;49m\u001b[38;5;241;43m.\u001b[39;49m\u001b[43mexecute\u001b[49m\u001b[43m(\u001b[49m\u001b[43msql\u001b[49m\u001b[43m,\u001b[49m\u001b[43m \u001b[49m\u001b[43mparams\u001b[49m\u001b[43m)\u001b[49m\n\u001b[1;32m   2739\u001b[0m     columns \u001b[38;5;241m=\u001b[39m [col_desc[\u001b[38;5;241m0\u001b[39m] \u001b[38;5;28;01mfor\u001b[39;00m col_desc \u001b[38;5;129;01min\u001b[39;00m cursor\u001b[38;5;241m.\u001b[39mdescription]\n\u001b[1;32m   2741\u001b[0m     \u001b[38;5;28;01mif\u001b[39;00m chunksize \u001b[38;5;129;01mis\u001b[39;00m \u001b[38;5;129;01mnot\u001b[39;00m \u001b[38;5;28;01mNone\u001b[39;00m:\n",
      "File \u001b[0;32m~/Desktop/ADVANCED-SQL/advanced-sql/.venv/lib/python3.11/site-packages/pandas/io/sql.py:2686\u001b[0m, in \u001b[0;36mSQLiteDatabase.execute\u001b[0;34m(self, sql, params)\u001b[0m\n\u001b[1;32m   2683\u001b[0m     \u001b[38;5;28;01mraise\u001b[39;00m ex \u001b[38;5;28;01mfrom\u001b[39;00m \u001b[38;5;21;01minner_exc\u001b[39;00m\n\u001b[1;32m   2685\u001b[0m ex \u001b[38;5;241m=\u001b[39m DatabaseError(\u001b[38;5;124mf\u001b[39m\u001b[38;5;124m\"\u001b[39m\u001b[38;5;124mExecution failed on sql \u001b[39m\u001b[38;5;124m'\u001b[39m\u001b[38;5;132;01m{\u001b[39;00msql\u001b[38;5;132;01m}\u001b[39;00m\u001b[38;5;124m'\u001b[39m\u001b[38;5;124m: \u001b[39m\u001b[38;5;132;01m{\u001b[39;00mexc\u001b[38;5;132;01m}\u001b[39;00m\u001b[38;5;124m\"\u001b[39m)\n\u001b[0;32m-> 2686\u001b[0m \u001b[38;5;28;01mraise\u001b[39;00m ex \u001b[38;5;28;01mfrom\u001b[39;00m \u001b[38;5;21;01mexc\u001b[39;00m\n",
      "\u001b[0;31mDatabaseError\u001b[0m: Execution failed on sql '\nWITH employee_details AS (\n    SELECT \n        e.employee_id,\n        e.name AS employee_name,\n        e.manager_id,\n        e.department_id,\n        s.salary\n    FROM \n        employees e\n    JOIN \n        salaries s ON e.employee_id = s.employee_id\n)\n, \ndepartment_details AS (\n    SELECT \n        d.department_id,\n        d.name AS department_name\n    FROM \n        departments d\n)\n\nSELECT\n    ed.department_id\nFROM\n    employee_details ed\nGROUP BY\n    ed.department_id\nJOIN\n    department_details dd ON ed.department_id = dd.department_id;\n': near \"JOIN\": syntax error"
     ]
    }
   ],
   "source": [
    "# Query to aggregate average salary by department\n",
    "# You may use the previously defined CTEs for employee and department details if you wish\n",
    "# Redefine the CTEs if you wish to practice your own!\n",
    "# Use the same connection object (conn)\n",
    "\n",
    "#dd.department_name\n",
    " #   AVG(ed.salary)\n",
    "\n",
    "add_on_query = '''\n",
    "SELECT\n",
    "    ed.department_id\n",
    "FROM\n",
    "    employee_details ed\n",
    "GROUP BY\n",
    "    ed.department_id\n",
    "JOIN\n",
    "    department_details dd ON ed.department_id = dd.department_id;\n",
    "'''\n",
    "\n",
    "query6 = employee_details_cte + ', ' + department_details_cte + add_on_query\n",
    "\n",
    "\n",
    "# Run the query and store the result in a DataFrame\n",
    "\n",
    "df6 = pd.read_sql(query6, conn)\n",
    "\n",
    "df6"
   ]
  },
  {
   "cell_type": "markdown",
   "metadata": {},
   "source": [
    "---"
   ]
  },
  {
   "cell_type": "markdown",
   "metadata": {},
   "source": [
    "### Activity 2\n",
    "\n",
    "How much are we paying out (in total salary) those who are 2 tiers (`depth = 2`) below the CEO in the hierarchy?"
   ]
  },
  {
   "cell_type": "code",
   "execution_count": null,
   "metadata": {},
   "outputs": [],
   "source": [
    "# Query to find the total salary expense for those who are on depth = 2 of the hierarchy\n",
    "\n",
    "query7 = '''\n",
    "\n",
    "'''\n",
    "\n",
    "# Run the query and store the result in a DataFrame\n",
    "df7 = pd.read_sql(query7, conn)\n",
    "\n",
    "df7"
   ]
  },
  {
   "cell_type": "markdown",
   "metadata": {},
   "source": [
    "---"
   ]
  },
  {
   "cell_type": "markdown",
   "metadata": {},
   "source": [
    "## Query Solutions"
   ]
  },
  {
   "cell_type": "markdown",
   "metadata": {},
   "source": [
    "#### Activity 1"
   ]
  },
  {
   "cell_type": "code",
   "execution_count": null,
   "metadata": {
    "vscode": {
     "languageId": "sql"
    }
   },
   "outputs": [],
   "source": [
    "WITH employee_details AS (\n",
    "    SELECT \n",
    "        e.employee_id,\n",
    "        e.name AS employee_name,\n",
    "        e.department_id,\n",
    "        s.salary\n",
    "    FROM \n",
    "        employees e\n",
    "    JOIN \n",
    "        salaries s ON e.employee_id = s.employee_id\n",
    "),\n",
    "department_salaries AS (\n",
    "    SELECT \n",
    "        ed.department_id,\n",
    "        AVG(ed.salary) AS avg_salary\n",
    "    FROM \n",
    "        employee_details ed\n",
    "    GROUP BY \n",
    "        ed.department_id\n",
    ")\n",
    "SELECT\n",
    "    dd.name,\n",
    "    ds.avg_salary\n",
    "FROM\n",
    "    department_salaries ds\n",
    "JOIN\n",
    "    departments dd ON ds.department_id = dd.department_id;"
   ]
  },
  {
   "cell_type": "markdown",
   "metadata": {},
   "source": [
    "#### Activity 2"
   ]
  },
  {
   "cell_type": "code",
   "execution_count": null,
   "metadata": {
    "vscode": {
     "languageId": "sql"
    }
   },
   "outputs": [],
   "source": [
    "WITH RECURSIVE employee_hierarchy AS (\n",
    "    SELECT employee_id, manager_id, 0 AS depth\n",
    "    FROM employees\n",
    "    WHERE manager_id IS NULL\n",
    "    UNION ALL\n",
    "    SELECT e.employee_id, e.manager_id, eh.depth + 1\n",
    "    FROM employees e\n",
    "    JOIN employee_hierarchy eh ON e.manager_id = eh.employee_id\n",
    "),\n",
    "depth_2_employees AS (\n",
    "    SELECT employee_id\n",
    "    FROM employee_hierarchy\n",
    "    WHERE depth = 2\n",
    ")\n",
    "SELECT\n",
    "    SUM(s.salary) AS total_salary_expense\n",
    "FROM\n",
    "    salaries s\n",
    "JOIN\n",
    "    depth_2_employees d2e ON s.employee_id = d2e.employee_id;"
   ]
  }
 ],
 "metadata": {
  "kernelspec": {
   "display_name": ".venv",
   "language": "python",
   "name": "python3"
  },
  "language_info": {
   "codemirror_mode": {
    "name": "ipython",
    "version": 3
   },
   "file_extension": ".py",
   "mimetype": "text/x-python",
   "name": "python",
   "nbconvert_exporter": "python",
   "pygments_lexer": "ipython3",
   "version": "3.11.4"
  }
 },
 "nbformat": 4,
 "nbformat_minor": 2
}
